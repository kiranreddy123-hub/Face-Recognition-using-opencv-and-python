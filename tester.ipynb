{
 "cells": [
  {
   "cell_type": "code",
   "execution_count": 5,
   "metadata": {},
   "outputs": [
    {
     "name": "stdout",
     "output_type": "stream",
     "text": [
      "Requirement already satisfied: opencv-python in c:\\users\\hp\\appdata\\local\\programs\\python\\python38\\lib\\site-packages (4.5.5.64)\n",
      "Requirement already satisfied: numpy>=1.14.5; python_version >= \"3.7\" in c:\\users\\hp\\appdata\\local\\programs\\python\\python38\\lib\\site-packages (from opencv-python) (1.22.3)\n",
      "Note: you may need to restart the kernel to use updated packages.\n"
     ]
    },
    {
     "name": "stderr",
     "output_type": "stream",
     "text": [
      "WARNING: You are using pip version 20.1.1; however, version 22.0.4 is available.\n",
      "You should consider upgrading via the 'C:\\Users\\HP\\AppData\\Local\\Programs\\Python\\Python38\\python.exe -m pip install --upgrade pip' command.\n"
     ]
    }
   ],
   "source": [
    "pip install opencv-python"
   ]
  },
  {
   "cell_type": "code",
   "execution_count": 9,
   "metadata": {},
   "outputs": [
    {
     "name": "stdout",
     "output_type": "stream",
     "text": [
      "Requirement already satisfied: opencv-contrib-python in c:\\users\\hp\\appdata\\local\\programs\\python\\python38\\lib\\site-packages (4.5.5.64)\n",
      "Requirement already satisfied: numpy>=1.17.3; python_version >= \"3.8\" in c:\\users\\hp\\appdata\\local\\programs\\python\\python38\\lib\\site-packages (from opencv-contrib-python) (1.22.3)\n",
      "Note: you may need to restart the kernel to use updated packages.\n"
     ]
    },
    {
     "name": "stderr",
     "output_type": "stream",
     "text": [
      "WARNING: You are using pip version 20.1.1; however, version 22.0.4 is available.\n",
      "You should consider upgrading via the 'C:\\Users\\HP\\AppData\\Local\\Programs\\Python\\Python38\\python.exe -m pip install --upgrade pip' command.\n"
     ]
    }
   ],
   "source": [
    "pip install opencv-contrib-python"
   ]
  },
  {
   "cell_type": "code",
   "execution_count": 1,
   "metadata": {},
   "outputs": [
    {
     "name": "stdout",
     "output_type": "stream",
     "text": [
      "faces_detected: [[399 294  80  80]]\n",
      "img_path: TrainingImages\\0\\img1.jpg\n",
      "id: 0\n",
      "img_path: TrainingImages\\0\\Prrofile Pic.jpg\n",
      "id: 0\n",
      "img_path: TrainingImages\\0\\sample.jpg\n",
      "id: 0\n",
      "img_path: TrainingImages\\0\\WhatsApp Image 2021-11-20 at 7.12.43 PM_11zon.jpg\n",
      "id: 0\n",
      "img_path: TrainingImages\\0\\WIN_20211120_19_46_46_Pro (2).jpg\n",
      "id: 0\n",
      "img_path: TrainingImages\\0\\WIN_20211120_20_14_51_Pro (2).jpg\n",
      "id: 0\n",
      "img_path: TrainingImages\\0\\WIN_20211120_20_35_58_Pro (2).jpg\n",
      "id: 0\n",
      "img_path: TrainingImages\\1\\sample.jpg\n",
      "id: 1\n",
      "img_path: TrainingImages\\1\\WhatsApp Image 2021-11-20 at 6.56.20 PM (1)_11zon.jpg\n",
      "id: 1\n",
      "img_path: TrainingImages\\1\\WhatsApp Image 2021-11-20 at 6.56.20 PM (2)_11zon.jpg\n",
      "id: 1\n",
      "img_path: TrainingImages\\1\\WhatsApp Image 2021-11-20 at 6.56.20 PM_11zon.jpg\n",
      "id: 1\n",
      "img_path: TrainingImages\\1\\WhatsApp Image 2021-11-20 at 6.56.21 PM (1)_11zon.jpg\n",
      "id: 1\n",
      "img_path: TrainingImages\\1\\WhatsApp Image 2021-11-20 at 6.56.21 PM_11zon.jpg\n",
      "id: 1\n"
     ]
    },
    {
     "ename": "error",
     "evalue": "OpenCV(4.8.0) D:\\a\\opencv-python\\opencv-python\\opencv_contrib\\modules\\face\\src\\lbph_faces.cpp:362: error: (-210:Unsupported format or combination of formats) Empty training data was given. You'll need more than one sample to learn a model. in function 'cv::face::LBPH::train'\n",
     "output_type": "error",
     "traceback": [
      "\u001b[1;31m---------------------------------------------------------------------------\u001b[0m",
      "\u001b[1;31merror\u001b[0m                                     Traceback (most recent call last)",
      "Cell \u001b[1;32mIn[1], line 15\u001b[0m\n\u001b[0;32m     11\u001b[0m \u001b[38;5;66;03m#Comment belows lines when running this program second time.Since it saves training.yml file in directory\u001b[39;00m\n\u001b[0;32m     12\u001b[0m \u001b[38;5;66;03m#run the below code once for training the data and no need run every time.\u001b[39;00m\n\u001b[0;32m     14\u001b[0m faces,faceID\u001b[38;5;241m=\u001b[39mfr\u001b[38;5;241m.\u001b[39mlabels_for_training_data(\u001b[38;5;124m'\u001b[39m\u001b[38;5;124mTrainingImages\u001b[39m\u001b[38;5;124m'\u001b[39m)\n\u001b[1;32m---> 15\u001b[0m recognizer\u001b[38;5;241m=\u001b[39m\u001b[43mfr\u001b[49m\u001b[38;5;241;43m.\u001b[39;49m\u001b[43mtrain_classifier\u001b[49m\u001b[43m(\u001b[49m\u001b[43mfaces\u001b[49m\u001b[43m,\u001b[49m\u001b[43m \u001b[49m\u001b[43mfaceID\u001b[49m\u001b[43m)\u001b[49m\n\u001b[0;32m     16\u001b[0m recognizer\u001b[38;5;241m.\u001b[39msave(\u001b[38;5;124m'\u001b[39m\u001b[38;5;124mtrainingData.yml\u001b[39m\u001b[38;5;124m'\u001b[39m)\n\u001b[0;32m     18\u001b[0m \u001b[38;5;66;03m#Uncomment below line for subsequent runs\u001b[39;00m\n",
      "File \u001b[1;32me:\\B.Tech\\PROJECTS\\Face recognition with python\\facerecognition.py:48\u001b[0m, in \u001b[0;36mtrain_classifier\u001b[1;34m(faces, faceID)\u001b[0m\n\u001b[0;32m     46\u001b[0m \u001b[38;5;28;01mdef\u001b[39;00m \u001b[38;5;21mtrain_classifier\u001b[39m(faces,faceID):\n\u001b[0;32m     47\u001b[0m     face_recognizer\u001b[38;5;241m=\u001b[39mcv2\u001b[38;5;241m.\u001b[39mface\u001b[38;5;241m.\u001b[39mLBPHFaceRecognizer_create()\n\u001b[1;32m---> 48\u001b[0m     \u001b[43mface_recognizer\u001b[49m\u001b[38;5;241;43m.\u001b[39;49m\u001b[43mtrain\u001b[49m\u001b[43m(\u001b[49m\u001b[43mfaces\u001b[49m\u001b[43m,\u001b[49m\u001b[43mnp\u001b[49m\u001b[38;5;241;43m.\u001b[39;49m\u001b[43marray\u001b[49m\u001b[43m(\u001b[49m\u001b[43mfaceID\u001b[49m\u001b[43m)\u001b[49m\u001b[43m)\u001b[49m\n\u001b[0;32m     49\u001b[0m     \u001b[38;5;28;01mreturn\u001b[39;00m face_recognizer\n",
      "\u001b[1;31merror\u001b[0m: OpenCV(4.8.0) D:\\a\\opencv-python\\opencv-python\\opencv_contrib\\modules\\face\\src\\lbph_faces.cpp:362: error: (-210:Unsupported format or combination of formats) Empty training data was given. You'll need more than one sample to learn a model. in function 'cv::face::LBPH::train'\n"
     ]
    }
   ],
   "source": [
    "import cv2\n",
    "import os\n",
    "import numpy as np\n",
    "import facerecognition as fr\n",
    "\n",
    "#This module takes images  stored in diskand performs face recognition\n",
    "test_img=cv2.imread('Testimages/img1.jpg')#test_img path\n",
    "faces_detected,gray_img=fr.faceDetection(test_img)\n",
    "print(\"faces_detected:\",faces_detected)\n",
    "\n",
    "#Comment belows lines when running this program second time.Since it saves training.yml file in directory\n",
    "#run the below code once for training the data and no need run every time.\n",
    "\n",
    "faces,faceID=fr.labels_for_training_data('TrainingImages')\n",
    "recognizer=fr.train_classifier(faces, faceID)\n",
    "recognizer.save('trainingData.yml')\n",
    "\n",
    "#Uncomment below line for subsequent runs\n",
    "recognizer=cv2.face.LBPHFaceRecognizer_create()\n",
    "recognizer.read('trainingData.yml')#use this to load training data for subsequent runs\n",
    "\n",
    "name={0:\"Kiran\",1:\"Anush\"}#creating dictionary containing names for each label\n",
    "\n",
    "for face in faces_detected:\n",
    "    (x,y,w,h)=face\n",
    "    roi_gray=gray_img[y:y+h,x:x+h]\n",
    "    label,confidence=recognizer.predict(roi_gray)#predicting the label of given image\n",
    "    print(\"confidence:\",confidence)\n",
    "    print(\"label:\",label)\n",
    "    fr.draw_rect(test_img,face)\n",
    "    predicted_name=name[label]\n",
    "    if(confidence>38):#If confidence more than 38 then don't print predicted face text on screen\n",
    "        continue\n",
    "    fr.put_text(test_img,predicted_name,x,y)\n",
    "\n",
    "resized_img=cv2.resize(test_img,(500,700))\n",
    "cv2.imshow(\"face dtecetion tutorial\",resized_img)\n",
    "cv2.waitKey(0)#Waits indefinitely until a key is pressed\n",
    "cv2.destroyAllWindows"
   ]
  }
 ],
 "metadata": {
  "interpreter": {
   "hash": "1e915f0a29dc84041eaeb02b7b1a21c440e37a87b61d44d5e84a515737dc82bc"
  },
  "kernelspec": {
   "display_name": "Python 3.8.8 64-bit ('base': conda)",
   "language": "python",
   "name": "python3"
  },
  "language_info": {
   "codemirror_mode": {
    "name": "ipython",
    "version": 3
   },
   "file_extension": ".py",
   "mimetype": "text/x-python",
   "name": "python",
   "nbconvert_exporter": "python",
   "pygments_lexer": "ipython3",
   "version": "3.9.13"
  },
  "orig_nbformat": 4
 },
 "nbformat": 4,
 "nbformat_minor": 2
}
