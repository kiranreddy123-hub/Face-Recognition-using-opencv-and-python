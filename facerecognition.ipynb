{
 "cells": [
  {
   "cell_type": "code",
   "execution_count": 1,
   "metadata": {},
   "outputs": [],
   "source": [
    "\n",
    "#This module contains all common functions that are called in tester.py file\n",
    "\n",
    "import cv2\n",
    "import os\n",
    "import numpy as np\n",
    "\n",
    "\n",
    "#Given an image below function returns rectangle for face detected along with gray scale image\n",
    "\n",
    "def faceDetection(test_img):\n",
    "    gray_img=cv2.cvtColor(test_img,cv2.COLOR_BGR2GRAY)#convert color image to grayscale\n",
    "    face_cascade=cv2.CascadeClassifier(cv2.data.haarcascades + 'data\\haarcascade_frontalface_default.xml')#Load haar classifier\n",
    "    faces=face_cascade.detectMultiScale(gray_img,scaleFactor=1.32,minNeighbors=5)#detectMultiScale returns rectangles\n",
    "\n",
    "    return faces,gray_img\n",
    "\n",
    "#Given a directory below function returns part of gray_img which is face along with its label/ID\n",
    "def labels_for_training_data(directory):\n",
    "    faces=[]\n",
    "    faceID=[]\n",
    "\n",
    "    for path,subdirnames,filenames in os.walk(directory):\n",
    "        for filename in filenames:\n",
    "            if filename.startswith(\".\"):\n",
    "                print(\"Skipping system file\")#Skipping files that startwith .\n",
    "                continue\n",
    "\n",
    "            id=os.path.basename(path)#fetching subdirectory names\n",
    "            img_path=os.path.join(path,filename)#fetching image path\n",
    "            print(\"img_path:\",img_path)\n",
    "            print(\"id:\",id)\n",
    "            test_img=cv2.imread(img_path)#loading each image one by one\n",
    "            if test_img is None:\n",
    "                print(\"Image not loaded properly\")\n",
    "                continue\n",
    "            faces_rect,gray_img=faceDetection(test_img)#Calling faceDetection function to return faces detected in particular image\n",
    "            if len(faces_rect)!=1:\n",
    "               continue #Since we are assuming only single person images are being fed to classifier\n",
    "            (x,y,w,h)=faces_rect[0]\n",
    "            roi_gray=gray_img[y:y+w,x:x+h]#cropping region of interest i.e. face area from grayscale image\n",
    "            faces.append(roi_gray)\n",
    "            faceID.append(int(id))\n",
    "    return faces,faceID\n",
    "\n",
    "\n",
    "#Below function trains haar classifier and takes faces,faceID returned by previous function as its arguments\n",
    "def train_classifier(faces,faceID):\n",
    "    face_recognizer=cv2.face.LBPHFaceRecognizer_create()\n",
    "    face_recognizer.train(faces,np.array(faceID))\n",
    "    return face_recognizer\n",
    "\n",
    "#Below function draws bounding boxes around detected face in image\n",
    "def draw_rect(test_img,face):\n",
    "    (x,y,w,h)=face\n",
    "    cv2.rectangle(test_img,(x,y),(x+w,y+h),(200,50,0),thickness=1)\n",
    "\n",
    "#Below function writes name of person for detected label\n",
    "def put_text(test_img,text,x,y):\n",
    "    cv2.putText(test_img,text,(x,y),cv2.FONT_HERSHEY_SIMPLEX,2,(200,0,0),2)"
   ]
  },
  {
   "cell_type": "code",
   "execution_count": null,
   "metadata": {},
   "outputs": [],
   "source": []
  }
 ],
 "metadata": {
  "interpreter": {
   "hash": "1e915f0a29dc84041eaeb02b7b1a21c440e37a87b61d44d5e84a515737dc82bc"
  },
  "kernelspec": {
   "display_name": "Python 3.8.8 64-bit ('base': conda)",
   "language": "python",
   "name": "python3"
  },
  "language_info": {
   "codemirror_mode": {
    "name": "ipython",
    "version": 3
   },
   "file_extension": ".py",
   "mimetype": "text/x-python",
   "name": "python",
   "nbconvert_exporter": "python",
   "pygments_lexer": "ipython3",
   "version": "3.9.13"
  },
  "orig_nbformat": 4
 },
 "nbformat": 4,
 "nbformat_minor": 2
}
